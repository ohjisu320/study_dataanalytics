{
 "cells": [
  {
   "cell_type": "markdown",
   "id": "137750f9-9b36-477b-b002-ddcac2f42b12",
   "metadata": {},
   "source": [
    "## 전처리 과정 및 분석"
   ]
  },
  {
   "cell_type": "markdown",
   "id": "c12fbf82-1061-4b74-83cd-1636138aec71",
   "metadata": {},
   "source": [
    "### 데이터타입 분석"
   ]
  },
  {
   "cell_type": "markdown",
   "id": "0c433861-e4f7-4919-b0d0-245ea6f3de55",
   "metadata": {},
   "source": [
    "|no|Variable|Definition|Key|분석가 의견|\n",
    "|--|--|--|--|--|\n",
    "|1|_id|매물 각각에 대한 unique id||unique id이기에 유의미한 분석 불가|\n",
    "|2|title|매물번호-매물 각각에 대한 unique id||상기동일|\n",
    "|3|roomName|매물번호-매물 각각에 대한 unique id||상기동일, 위와 중복 데이터이므로 삭제|\n",
    "|4|gender|매물의 성별구분 유무|공용|공용/여성전용/남성전용을 분리할 목적이었으나 '공용' 데이터만 있기에 열 삭제 가능|\n",
    "|5|roomType|다인실 구분|'1인실', '그 외'|범주형 데이터 - 이후 숫자로 구분 필요|\n",
    "|6|py|평수|1.99㎡~132㎡|명목형 데이터(string)이므로 ㎡ 삭제 후 float으로 변환 필요|\n",
    "|7|deposit|매물의 보증금|10만원~3억만원|명목형 데이터(string)이므로 삭제 후 '만원'은 '', '억만원'은 0000로 변환 필요|\n",
    "|8|rentFee|매물의 월세|12만원~280만원|명목형 데이터(string)이므로 '만원'을 ''로 변환 필요|\n",
    "|9|region|매물의 주소||범주형데이터|\n",
    "|10|roomOption|매물의 옵션||명목형 데이터 - 옵션 별로 구분 필요\n",
    "|11|url|매물 정보를 담고 있는 url||명목형데이터-유의미한 분석 불가"
   ]
  },
  {
   "cell_type": "markdown",
   "id": "2ae4c414-2409-4425-9ff2-45369a597217",
   "metadata": {
    "jp-MarkdownHeadingCollapsed": true
   },
   "source": [
    "### 데이터 전처리"
   ]
  },
  {
   "cell_type": "code",
   "execution_count": 13,
   "id": "8edb36c1-feb7-420d-b5f1-939cba52dc8e",
   "metadata": {
    "scrolled": true
   },
   "outputs": [
    {
     "data": {
      "text/plain": [
       "'https://www.dabangapp.com/room/659f833d55518310f67634b8'"
      ]
     },
     "execution_count": 13,
     "metadata": {},
     "output_type": "execute_result"
    }
   ],
   "source": [
    "import pandas as pd\n",
    "df_cd = pd.read_csv('project_coliving.yous_dabang.csv')\n",
    "df_cd['url'][10]"
   ]
  },
  {
   "cell_type": "code",
   "execution_count": 14,
   "id": "063f05a5-eae5-4278-a35e-40d4f7b1f86e",
   "metadata": {},
   "outputs": [
    {
     "data": {
      "text/html": [
       "<div>\n",
       "<style scoped>\n",
       "    .dataframe tbody tr th:only-of-type {\n",
       "        vertical-align: middle;\n",
       "    }\n",
       "\n",
       "    .dataframe tbody tr th {\n",
       "        vertical-align: top;\n",
       "    }\n",
       "\n",
       "    .dataframe thead th {\n",
       "        text-align: right;\n",
       "    }\n",
       "</style>\n",
       "<table border=\"1\" class=\"dataframe\">\n",
       "  <thead>\n",
       "    <tr style=\"text-align: right;\">\n",
       "      <th></th>\n",
       "      <th>title</th>\n",
       "      <th>roomType</th>\n",
       "      <th>py</th>\n",
       "      <th>deposit</th>\n",
       "      <th>rentFee</th>\n",
       "      <th>region</th>\n",
       "      <th>roomOption</th>\n",
       "    </tr>\n",
       "  </thead>\n",
       "  <tbody>\n",
       "    <tr>\n",
       "      <th>0</th>\n",
       "      <td>매물번호 42074288</td>\n",
       "      <td>1인실</td>\n",
       "      <td>19.83㎡</td>\n",
       "      <td>1000만원</td>\n",
       "      <td>56만원</td>\n",
       "      <td>서울특별시 관악구 신림동</td>\n",
       "      <td>벽걸이형\\n책상\\n옷장\\n신발장\\n냉장고\\n세탁기\\n싱크대\\n인덕션\\n전자레인지\\n...</td>\n",
       "    </tr>\n",
       "    <tr>\n",
       "      <th>1</th>\n",
       "      <td>매물번호 42051547</td>\n",
       "      <td>그 외</td>\n",
       "      <td>26.32㎡</td>\n",
       "      <td>2000만원</td>\n",
       "      <td>75만원</td>\n",
       "      <td>서울특별시 강북구 수유동</td>\n",
       "      <td>벽걸이형\\n침대\\n신발장\\n냉장고\\n세탁기\\n싱크대\\n가스레인지\\nTV\\n</td>\n",
       "    </tr>\n",
       "    <tr>\n",
       "      <th>2</th>\n",
       "      <td>매물번호 41995067</td>\n",
       "      <td>그 외</td>\n",
       "      <td>26.32㎡</td>\n",
       "      <td>2000만원</td>\n",
       "      <td>75만원</td>\n",
       "      <td>서울특별시 강북구 수유동</td>\n",
       "      <td>벽걸이형\\n신발장\\n싱크대\\n가스레인지\\n무인택배함\\n인터폰\\nCCTV\\n현관보안</td>\n",
       "    </tr>\n",
       "    <tr>\n",
       "      <th>3</th>\n",
       "      <td>매물번호 39924505</td>\n",
       "      <td>그 외</td>\n",
       "      <td>49.04㎡</td>\n",
       "      <td>2억9000만원</td>\n",
       "      <td>30만원</td>\n",
       "      <td>서울특별시 강서구 공항동</td>\n",
       "      <td>천장형\\n식탁\\n신발장\\n싱크대\\n인덕션\\n화재경보기\\n베란다\\n무인택배함\\n비디오...</td>\n",
       "    </tr>\n",
       "    <tr>\n",
       "      <th>4</th>\n",
       "      <td>매물번호 39874814</td>\n",
       "      <td>그 외</td>\n",
       "      <td>96.86㎡</td>\n",
       "      <td>1억5000만원</td>\n",
       "      <td>70만원</td>\n",
       "      <td>서울특별시 강서구 공항동</td>\n",
       "      <td>신발장\\n싱크대\\n가스레인지\\n화재경보기\\n베란다\\n비디오폰\\n인터폰\\n카드키\\nC...</td>\n",
       "    </tr>\n",
       "    <tr>\n",
       "      <th>...</th>\n",
       "      <td>...</td>\n",
       "      <td>...</td>\n",
       "      <td>...</td>\n",
       "      <td>...</td>\n",
       "      <td>...</td>\n",
       "      <td>...</td>\n",
       "      <td>...</td>\n",
       "    </tr>\n",
       "    <tr>\n",
       "      <th>549</th>\n",
       "      <td>매물번호 41950840</td>\n",
       "      <td>1인실</td>\n",
       "      <td>19.83㎡</td>\n",
       "      <td>1000만원</td>\n",
       "      <td>50만원</td>\n",
       "      <td>서울특별시 강서구 화곡동</td>\n",
       "      <td>벽걸이형\\n옷장\\n신발장\\n냉장고\\n세탁기\\n싱크대\\n인덕션\\n화재경보기\\n인터폰\\...</td>\n",
       "    </tr>\n",
       "    <tr>\n",
       "      <th>550</th>\n",
       "      <td>매물번호 42334987</td>\n",
       "      <td>그 외</td>\n",
       "      <td>48.45㎡</td>\n",
       "      <td>50만원</td>\n",
       "      <td>105만원</td>\n",
       "      <td>경기도 의왕시 월암동</td>\n",
       "      <td>신발장\\n싱크대\\n인덕션\\n비디오폰\\nCCTV\\n현관보안</td>\n",
       "    </tr>\n",
       "    <tr>\n",
       "      <th>551</th>\n",
       "      <td>매물번호 42196226</td>\n",
       "      <td>1인실</td>\n",
       "      <td>23.14㎡</td>\n",
       "      <td>200만원</td>\n",
       "      <td>28만원</td>\n",
       "      <td>경기도 고양시 덕양구 화정동</td>\n",
       "      <td>벽걸이형\\n신발장\\n냉장고\\n세탁기\\n싱크대\\n가스레인지\\n</td>\n",
       "    </tr>\n",
       "    <tr>\n",
       "      <th>552</th>\n",
       "      <td>매물번호 42254016</td>\n",
       "      <td>1인실</td>\n",
       "      <td>25㎡</td>\n",
       "      <td>300만원</td>\n",
       "      <td>30만원</td>\n",
       "      <td>서울특별시 강서구 화곡동</td>\n",
       "      <td>벽걸이형\\n냉장고\\n세탁기\\n싱크대\\n가스레인지\\n전자레인지\\n</td>\n",
       "    </tr>\n",
       "    <tr>\n",
       "      <th>553</th>\n",
       "      <td>매물번호 42161102</td>\n",
       "      <td>그 외</td>\n",
       "      <td>33.05㎡</td>\n",
       "      <td>1억9000만원</td>\n",
       "      <td>20만원</td>\n",
       "      <td>서울특별시 관악구 신림동</td>\n",
       "      <td>벽걸이형\\n천장형\\n옷장\\n신발장\\n냉장고\\n세탁기\\n건조기\\n싱크대\\n인덕션\\n전...</td>\n",
       "    </tr>\n",
       "  </tbody>\n",
       "</table>\n",
       "<p>554 rows × 7 columns</p>\n",
       "</div>"
      ],
      "text/plain": [
       "             title roomType      py   deposit rentFee           region  \\\n",
       "0    매물번호 42074288      1인실  19.83㎡    1000만원    56만원    서울특별시 관악구 신림동   \n",
       "1    매물번호 42051547      그 외  26.32㎡    2000만원    75만원    서울특별시 강북구 수유동   \n",
       "2    매물번호 41995067      그 외  26.32㎡    2000만원    75만원    서울특별시 강북구 수유동   \n",
       "3    매물번호 39924505      그 외  49.04㎡  2억9000만원    30만원    서울특별시 강서구 공항동   \n",
       "4    매물번호 39874814      그 외  96.86㎡  1억5000만원    70만원    서울특별시 강서구 공항동   \n",
       "..             ...      ...     ...       ...     ...              ...   \n",
       "549  매물번호 41950840      1인실  19.83㎡    1000만원    50만원    서울특별시 강서구 화곡동   \n",
       "550  매물번호 42334987      그 외  48.45㎡      50만원   105만원      경기도 의왕시 월암동   \n",
       "551  매물번호 42196226      1인실  23.14㎡     200만원    28만원  경기도 고양시 덕양구 화정동   \n",
       "552  매물번호 42254016      1인실     25㎡     300만원    30만원    서울특별시 강서구 화곡동   \n",
       "553  매물번호 42161102      그 외  33.05㎡  1억9000만원    20만원    서울특별시 관악구 신림동   \n",
       "\n",
       "                                            roomOption  \n",
       "0    벽걸이형\\n책상\\n옷장\\n신발장\\n냉장고\\n세탁기\\n싱크대\\n인덕션\\n전자레인지\\n...  \n",
       "1            벽걸이형\\n침대\\n신발장\\n냉장고\\n세탁기\\n싱크대\\n가스레인지\\nTV\\n  \n",
       "2        벽걸이형\\n신발장\\n싱크대\\n가스레인지\\n무인택배함\\n인터폰\\nCCTV\\n현관보안  \n",
       "3    천장형\\n식탁\\n신발장\\n싱크대\\n인덕션\\n화재경보기\\n베란다\\n무인택배함\\n비디오...  \n",
       "4    신발장\\n싱크대\\n가스레인지\\n화재경보기\\n베란다\\n비디오폰\\n인터폰\\n카드키\\nC...  \n",
       "..                                                 ...  \n",
       "549  벽걸이형\\n옷장\\n신발장\\n냉장고\\n세탁기\\n싱크대\\n인덕션\\n화재경보기\\n인터폰\\...  \n",
       "550                    신발장\\n싱크대\\n인덕션\\n비디오폰\\nCCTV\\n현관보안  \n",
       "551                  벽걸이형\\n신발장\\n냉장고\\n세탁기\\n싱크대\\n가스레인지\\n  \n",
       "552                벽걸이형\\n냉장고\\n세탁기\\n싱크대\\n가스레인지\\n전자레인지\\n  \n",
       "553  벽걸이형\\n천장형\\n옷장\\n신발장\\n냉장고\\n세탁기\\n건조기\\n싱크대\\n인덕션\\n전...  \n",
       "\n",
       "[554 rows x 7 columns]"
      ]
     },
     "execution_count": 14,
     "metadata": {},
     "output_type": "execute_result"
    }
   ],
   "source": [
    "df_cd_extract = df_cd[['title', 'roomType', 'py', 'deposit', 'rentFee', 'region', 'roomOption']] \n",
    "df_cd_extract"
   ]
  },
  {
   "cell_type": "code",
   "execution_count": 15,
   "id": "8f6dc726-ae82-43a5-99eb-d7a3bba96ea7",
   "metadata": {
    "scrolled": true
   },
   "outputs": [
    {
     "name": "stderr",
     "output_type": "stream",
     "text": [
      "/tmp/ipykernel_2797/2622039983.py:2: SettingWithCopyWarning: \n",
      "A value is trying to be set on a copy of a slice from a DataFrame.\n",
      "Try using .loc[row_indexer,col_indexer] = value instead\n",
      "\n",
      "See the caveats in the documentation: https://pandas.pydata.org/pandas-docs/stable/user_guide/indexing.html#returning-a-view-versus-a-copy\n",
      "  df_cd_extract['py'] = df_cd_extract['py'].str.slice(stop=-1)\n",
      "/tmp/ipykernel_2797/2622039983.py:3: SettingWithCopyWarning: \n",
      "A value is trying to be set on a copy of a slice from a DataFrame.\n",
      "Try using .loc[row_indexer,col_indexer] = value instead\n",
      "\n",
      "See the caveats in the documentation: https://pandas.pydata.org/pandas-docs/stable/user_guide/indexing.html#returning-a-view-versus-a-copy\n",
      "  df_cd_extract['py'] = df_cd_extract['py'].astype(float)\n",
      "/tmp/ipykernel_2797/2622039983.py:4: SettingWithCopyWarning: \n",
      "A value is trying to be set on a copy of a slice from a DataFrame.\n",
      "Try using .loc[row_indexer,col_indexer] = value instead\n",
      "\n",
      "See the caveats in the documentation: https://pandas.pydata.org/pandas-docs/stable/user_guide/indexing.html#returning-a-view-versus-a-copy\n",
      "  df_cd_extract['deposit'] = df_cd_extract['deposit'].str.replace('억만원', '0000')\n",
      "/tmp/ipykernel_2797/2622039983.py:5: SettingWithCopyWarning: \n",
      "A value is trying to be set on a copy of a slice from a DataFrame.\n",
      "Try using .loc[row_indexer,col_indexer] = value instead\n",
      "\n",
      "See the caveats in the documentation: https://pandas.pydata.org/pandas-docs/stable/user_guide/indexing.html#returning-a-view-versus-a-copy\n",
      "  df_cd_extract['deposit'] = df_cd_extract['deposit'].str.replace('만원', '')\n",
      "/tmp/ipykernel_2797/2622039983.py:6: SettingWithCopyWarning: \n",
      "A value is trying to be set on a copy of a slice from a DataFrame.\n",
      "Try using .loc[row_indexer,col_indexer] = value instead\n",
      "\n",
      "See the caveats in the documentation: https://pandas.pydata.org/pandas-docs/stable/user_guide/indexing.html#returning-a-view-versus-a-copy\n",
      "  df_cd_extract['deposit'] = df_cd_extract['deposit'].str.replace('억', '')\n",
      "/tmp/ipykernel_2797/2622039983.py:7: SettingWithCopyWarning: \n",
      "A value is trying to be set on a copy of a slice from a DataFrame.\n",
      "Try using .loc[row_indexer,col_indexer] = value instead\n",
      "\n",
      "See the caveats in the documentation: https://pandas.pydata.org/pandas-docs/stable/user_guide/indexing.html#returning-a-view-versus-a-copy\n",
      "  df_cd_extract['deposit_만'] = df_cd_extract['deposit'].astype(int)\n",
      "/tmp/ipykernel_2797/2622039983.py:8: SettingWithCopyWarning: \n",
      "A value is trying to be set on a copy of a slice from a DataFrame.\n",
      "Try using .loc[row_indexer,col_indexer] = value instead\n",
      "\n",
      "See the caveats in the documentation: https://pandas.pydata.org/pandas-docs/stable/user_guide/indexing.html#returning-a-view-versus-a-copy\n",
      "  df_cd_extract['rentFee'] = df_cd_extract['rentFee'].str.replace('만원', '')\n",
      "/tmp/ipykernel_2797/2622039983.py:9: SettingWithCopyWarning: \n",
      "A value is trying to be set on a copy of a slice from a DataFrame.\n",
      "Try using .loc[row_indexer,col_indexer] = value instead\n",
      "\n",
      "See the caveats in the documentation: https://pandas.pydata.org/pandas-docs/stable/user_guide/indexing.html#returning-a-view-versus-a-copy\n",
      "  df_cd_extract['rentFee_만'] = df_cd_extract['rentFee'].astype(int)\n"
     ]
    }
   ],
   "source": [
    "# py, deposit, rentFee 전처리\n",
    "df_cd_extract['py'] = df_cd_extract['py'].str.slice(stop=-1)\n",
    "df_cd_extract['py'] = df_cd_extract['py'].astype(float)\n",
    "df_cd_extract['deposit'] = df_cd_extract['deposit'].str.replace('억만원', '0000')\n",
    "df_cd_extract['deposit'] = df_cd_extract['deposit'].str.replace('만원', '')\n",
    "df_cd_extract['deposit'] = df_cd_extract['deposit'].str.replace('억', '')\n",
    "df_cd_extract['deposit_만'] = df_cd_extract['deposit'].astype(int)\n",
    "df_cd_extract['rentFee'] = df_cd_extract['rentFee'].str.replace('만원', '')\n",
    "df_cd_extract['rentFee_만'] = df_cd_extract['rentFee'].astype(int)"
   ]
  },
  {
   "cell_type": "code",
   "execution_count": 16,
   "id": "dfab6b0f-4ff8-4061-b8b6-5c7fa5109921",
   "metadata": {
    "scrolled": true
   },
   "outputs": [
    {
     "data": {
      "text/plain": [
       "0       1000\n",
       "1       2000\n",
       "2       2000\n",
       "3      29000\n",
       "4      15000\n",
       "       ...  \n",
       "549     1000\n",
       "550       50\n",
       "551      200\n",
       "552      300\n",
       "553    19000\n",
       "Name: deposit_만, Length: 554, dtype: int64"
      ]
     },
     "execution_count": 16,
     "metadata": {},
     "output_type": "execute_result"
    }
   ],
   "source": [
    "df_cd_extract['deposit_만']"
   ]
  },
  {
   "cell_type": "code",
   "execution_count": 17,
   "id": "cf0722fe-9928-4d7d-9a9c-db6fd4f7f758",
   "metadata": {},
   "outputs": [
    {
     "data": {
      "text/plain": [
       "(300.0, 1000.0, 2000.0, 30000.0)"
      ]
     },
     "execution_count": 17,
     "metadata": {},
     "output_type": "execute_result"
    }
   ],
   "source": [
    "df_cd_extract['deposit_만'].describe().loc['25%'], df_cd_extract['deposit_만'].describe().loc['50%'], df_cd_extract['deposit_만'].describe().loc['75%'],df_cd_extract['deposit_만'].describe().loc['max']"
   ]
  },
  {
   "cell_type": "code",
   "execution_count": 18,
   "id": "4713d5c9-84e8-4212-8165-1ef7ef4cc850",
   "metadata": {},
   "outputs": [],
   "source": [
    "import numpy as np\n",
    "def deposit_cate(row):\n",
    "    if row < df_cd_extract['deposit_만'].describe().loc['25%']  :  \n",
    "        return 0\n",
    "    elif row >=df_cd_extract['deposit_만'].describe().loc['25%'] and row < df_cd_extract['deposit_만'].describe().loc['50%']:\n",
    "        return 1\n",
    "    elif row >=df_cd_extract['deposit_만'].describe().loc['50%'] and row < df_cd_extract['deposit_만'].describe().loc['75%']:\n",
    "        return 2\n",
    "    elif row >=df_cd_extract['deposit_만'].describe().loc['75%'] and row < np.median([df_cd_extract['deposit_만'].describe().loc['75%'],df_cd_extract['deposit_만'].describe().loc['max']]):\n",
    "        return 3\n",
    "    else :\n",
    "        return 4"
   ]
  },
  {
   "cell_type": "code",
   "execution_count": 19,
   "id": "056604b7-3d8c-46d7-8ade-cae068957583",
   "metadata": {},
   "outputs": [
    {
     "name": "stderr",
     "output_type": "stream",
     "text": [
      "/tmp/ipykernel_2797/2431246075.py:1: SettingWithCopyWarning: \n",
      "A value is trying to be set on a copy of a slice from a DataFrame.\n",
      "Try using .loc[row_indexer,col_indexer] = value instead\n",
      "\n",
      "See the caveats in the documentation: https://pandas.pydata.org/pandas-docs/stable/user_guide/indexing.html#returning-a-view-versus-a-copy\n",
      "  df_cd_extract['deposit_cate'] = df_cd_extract['deposit_만'].apply(deposit_cate)\n"
     ]
    }
   ],
   "source": [
    "df_cd_extract['deposit_cate'] = df_cd_extract['deposit_만'].apply(deposit_cate)"
   ]
  },
  {
   "cell_type": "code",
   "execution_count": 20,
   "id": "49531acd-a063-4936-a78e-630a376a650c",
   "metadata": {},
   "outputs": [
    {
     "name": "stdout",
     "output_type": "stream",
     "text": [
      "Index(['title', 'roomType', 'py', 'deposit', 'rentFee', 'region', 'roomOption',\n",
      "       'deposit_만', 'rentFee_만', 'deposit_cate'],\n",
      "      dtype='object')\n"
     ]
    },
    {
     "data": {
      "text/html": [
       "<div>\n",
       "<style scoped>\n",
       "    .dataframe tbody tr th:only-of-type {\n",
       "        vertical-align: middle;\n",
       "    }\n",
       "\n",
       "    .dataframe tbody tr th {\n",
       "        vertical-align: top;\n",
       "    }\n",
       "\n",
       "    .dataframe thead th {\n",
       "        text-align: right;\n",
       "    }\n",
       "</style>\n",
       "<table border=\"1\" class=\"dataframe\">\n",
       "  <thead>\n",
       "    <tr style=\"text-align: right;\">\n",
       "      <th></th>\n",
       "      <th>title</th>\n",
       "      <th>roomType</th>\n",
       "      <th>py</th>\n",
       "      <th>deposit</th>\n",
       "      <th>rentFee</th>\n",
       "      <th>region</th>\n",
       "      <th>roomOption</th>\n",
       "      <th>deposit_만</th>\n",
       "      <th>rentFee_만</th>\n",
       "      <th>deposit_cate</th>\n",
       "    </tr>\n",
       "  </thead>\n",
       "  <tbody>\n",
       "    <tr>\n",
       "      <th>0</th>\n",
       "      <td>매물번호 42074288</td>\n",
       "      <td>1인실</td>\n",
       "      <td>19.83</td>\n",
       "      <td>1000</td>\n",
       "      <td>56</td>\n",
       "      <td>서울특별시 관악구 신림동</td>\n",
       "      <td>벽걸이형\\n책상\\n옷장\\n신발장\\n냉장고\\n세탁기\\n싱크대\\n인덕션\\n전자레인지\\n...</td>\n",
       "      <td>1000</td>\n",
       "      <td>56</td>\n",
       "      <td>2</td>\n",
       "    </tr>\n",
       "    <tr>\n",
       "      <th>1</th>\n",
       "      <td>매물번호 42051547</td>\n",
       "      <td>그 외</td>\n",
       "      <td>26.32</td>\n",
       "      <td>2000</td>\n",
       "      <td>75</td>\n",
       "      <td>서울특별시 강북구 수유동</td>\n",
       "      <td>벽걸이형\\n침대\\n신발장\\n냉장고\\n세탁기\\n싱크대\\n가스레인지\\nTV\\n</td>\n",
       "      <td>2000</td>\n",
       "      <td>75</td>\n",
       "      <td>3</td>\n",
       "    </tr>\n",
       "    <tr>\n",
       "      <th>2</th>\n",
       "      <td>매물번호 41995067</td>\n",
       "      <td>그 외</td>\n",
       "      <td>26.32</td>\n",
       "      <td>2000</td>\n",
       "      <td>75</td>\n",
       "      <td>서울특별시 강북구 수유동</td>\n",
       "      <td>벽걸이형\\n신발장\\n싱크대\\n가스레인지\\n무인택배함\\n인터폰\\nCCTV\\n현관보안</td>\n",
       "      <td>2000</td>\n",
       "      <td>75</td>\n",
       "      <td>3</td>\n",
       "    </tr>\n",
       "    <tr>\n",
       "      <th>3</th>\n",
       "      <td>매물번호 39924505</td>\n",
       "      <td>그 외</td>\n",
       "      <td>49.04</td>\n",
       "      <td>29000</td>\n",
       "      <td>30</td>\n",
       "      <td>서울특별시 강서구 공항동</td>\n",
       "      <td>천장형\\n식탁\\n신발장\\n싱크대\\n인덕션\\n화재경보기\\n베란다\\n무인택배함\\n비디오...</td>\n",
       "      <td>29000</td>\n",
       "      <td>30</td>\n",
       "      <td>4</td>\n",
       "    </tr>\n",
       "    <tr>\n",
       "      <th>4</th>\n",
       "      <td>매물번호 39874814</td>\n",
       "      <td>그 외</td>\n",
       "      <td>96.86</td>\n",
       "      <td>15000</td>\n",
       "      <td>70</td>\n",
       "      <td>서울특별시 강서구 공항동</td>\n",
       "      <td>신발장\\n싱크대\\n가스레인지\\n화재경보기\\n베란다\\n비디오폰\\n인터폰\\n카드키\\nC...</td>\n",
       "      <td>15000</td>\n",
       "      <td>70</td>\n",
       "      <td>3</td>\n",
       "    </tr>\n",
       "    <tr>\n",
       "      <th>...</th>\n",
       "      <td>...</td>\n",
       "      <td>...</td>\n",
       "      <td>...</td>\n",
       "      <td>...</td>\n",
       "      <td>...</td>\n",
       "      <td>...</td>\n",
       "      <td>...</td>\n",
       "      <td>...</td>\n",
       "      <td>...</td>\n",
       "      <td>...</td>\n",
       "    </tr>\n",
       "    <tr>\n",
       "      <th>549</th>\n",
       "      <td>매물번호 41950840</td>\n",
       "      <td>1인실</td>\n",
       "      <td>19.83</td>\n",
       "      <td>1000</td>\n",
       "      <td>50</td>\n",
       "      <td>서울특별시 강서구 화곡동</td>\n",
       "      <td>벽걸이형\\n옷장\\n신발장\\n냉장고\\n세탁기\\n싱크대\\n인덕션\\n화재경보기\\n인터폰\\...</td>\n",
       "      <td>1000</td>\n",
       "      <td>50</td>\n",
       "      <td>2</td>\n",
       "    </tr>\n",
       "    <tr>\n",
       "      <th>550</th>\n",
       "      <td>매물번호 42334987</td>\n",
       "      <td>그 외</td>\n",
       "      <td>48.45</td>\n",
       "      <td>50</td>\n",
       "      <td>105</td>\n",
       "      <td>경기도 의왕시 월암동</td>\n",
       "      <td>신발장\\n싱크대\\n인덕션\\n비디오폰\\nCCTV\\n현관보안</td>\n",
       "      <td>50</td>\n",
       "      <td>105</td>\n",
       "      <td>0</td>\n",
       "    </tr>\n",
       "    <tr>\n",
       "      <th>551</th>\n",
       "      <td>매물번호 42196226</td>\n",
       "      <td>1인실</td>\n",
       "      <td>23.14</td>\n",
       "      <td>200</td>\n",
       "      <td>28</td>\n",
       "      <td>경기도 고양시 덕양구 화정동</td>\n",
       "      <td>벽걸이형\\n신발장\\n냉장고\\n세탁기\\n싱크대\\n가스레인지\\n</td>\n",
       "      <td>200</td>\n",
       "      <td>28</td>\n",
       "      <td>0</td>\n",
       "    </tr>\n",
       "    <tr>\n",
       "      <th>552</th>\n",
       "      <td>매물번호 42254016</td>\n",
       "      <td>1인실</td>\n",
       "      <td>25.00</td>\n",
       "      <td>300</td>\n",
       "      <td>30</td>\n",
       "      <td>서울특별시 강서구 화곡동</td>\n",
       "      <td>벽걸이형\\n냉장고\\n세탁기\\n싱크대\\n가스레인지\\n전자레인지\\n</td>\n",
       "      <td>300</td>\n",
       "      <td>30</td>\n",
       "      <td>1</td>\n",
       "    </tr>\n",
       "    <tr>\n",
       "      <th>553</th>\n",
       "      <td>매물번호 42161102</td>\n",
       "      <td>그 외</td>\n",
       "      <td>33.05</td>\n",
       "      <td>19000</td>\n",
       "      <td>20</td>\n",
       "      <td>서울특별시 관악구 신림동</td>\n",
       "      <td>벽걸이형\\n천장형\\n옷장\\n신발장\\n냉장고\\n세탁기\\n건조기\\n싱크대\\n인덕션\\n전...</td>\n",
       "      <td>19000</td>\n",
       "      <td>20</td>\n",
       "      <td>4</td>\n",
       "    </tr>\n",
       "  </tbody>\n",
       "</table>\n",
       "<p>554 rows × 10 columns</p>\n",
       "</div>"
      ],
      "text/plain": [
       "             title roomType     py deposit rentFee           region  \\\n",
       "0    매물번호 42074288      1인실  19.83    1000      56    서울특별시 관악구 신림동   \n",
       "1    매물번호 42051547      그 외  26.32    2000      75    서울특별시 강북구 수유동   \n",
       "2    매물번호 41995067      그 외  26.32    2000      75    서울특별시 강북구 수유동   \n",
       "3    매물번호 39924505      그 외  49.04   29000      30    서울특별시 강서구 공항동   \n",
       "4    매물번호 39874814      그 외  96.86   15000      70    서울특별시 강서구 공항동   \n",
       "..             ...      ...    ...     ...     ...              ...   \n",
       "549  매물번호 41950840      1인실  19.83    1000      50    서울특별시 강서구 화곡동   \n",
       "550  매물번호 42334987      그 외  48.45      50     105      경기도 의왕시 월암동   \n",
       "551  매물번호 42196226      1인실  23.14     200      28  경기도 고양시 덕양구 화정동   \n",
       "552  매물번호 42254016      1인실  25.00     300      30    서울특별시 강서구 화곡동   \n",
       "553  매물번호 42161102      그 외  33.05   19000      20    서울특별시 관악구 신림동   \n",
       "\n",
       "                                            roomOption  deposit_만  rentFee_만  \\\n",
       "0    벽걸이형\\n책상\\n옷장\\n신발장\\n냉장고\\n세탁기\\n싱크대\\n인덕션\\n전자레인지\\n...       1000         56   \n",
       "1            벽걸이형\\n침대\\n신발장\\n냉장고\\n세탁기\\n싱크대\\n가스레인지\\nTV\\n       2000         75   \n",
       "2        벽걸이형\\n신발장\\n싱크대\\n가스레인지\\n무인택배함\\n인터폰\\nCCTV\\n현관보안       2000         75   \n",
       "3    천장형\\n식탁\\n신발장\\n싱크대\\n인덕션\\n화재경보기\\n베란다\\n무인택배함\\n비디오...      29000         30   \n",
       "4    신발장\\n싱크대\\n가스레인지\\n화재경보기\\n베란다\\n비디오폰\\n인터폰\\n카드키\\nC...      15000         70   \n",
       "..                                                 ...        ...        ...   \n",
       "549  벽걸이형\\n옷장\\n신발장\\n냉장고\\n세탁기\\n싱크대\\n인덕션\\n화재경보기\\n인터폰\\...       1000         50   \n",
       "550                    신발장\\n싱크대\\n인덕션\\n비디오폰\\nCCTV\\n현관보안         50        105   \n",
       "551                  벽걸이형\\n신발장\\n냉장고\\n세탁기\\n싱크대\\n가스레인지\\n        200         28   \n",
       "552                벽걸이형\\n냉장고\\n세탁기\\n싱크대\\n가스레인지\\n전자레인지\\n        300         30   \n",
       "553  벽걸이형\\n천장형\\n옷장\\n신발장\\n냉장고\\n세탁기\\n건조기\\n싱크대\\n인덕션\\n전...      19000         20   \n",
       "\n",
       "     deposit_cate  \n",
       "0               2  \n",
       "1               3  \n",
       "2               3  \n",
       "3               4  \n",
       "4               3  \n",
       "..            ...  \n",
       "549             2  \n",
       "550             0  \n",
       "551             0  \n",
       "552             1  \n",
       "553             4  \n",
       "\n",
       "[554 rows x 10 columns]"
      ]
     },
     "execution_count": 20,
     "metadata": {},
     "output_type": "execute_result"
    }
   ],
   "source": [
    "print(df_cd_extract.columns)\n",
    "df_cd_extract"
   ]
  },
  {
   "cell_type": "code",
   "execution_count": 21,
   "id": "b142525c-8afd-46b7-ad29-a05fb391c943",
   "metadata": {},
   "outputs": [],
   "source": [
    "\n",
    "def rentFee_cate(row):\n",
    "    import numpy as np\n",
    "    if row < df_cd_extract['rentFee_만'].describe().loc['25%']  :  \n",
    "        return 0\n",
    "    elif row >=df_cd_extract['rentFee_만'].describe().loc['25%'] and row < df_cd_extract['rentFee_만'].describe().loc['50%']:\n",
    "        return 1\n",
    "    elif row >=df_cd_extract['rentFee_만'].describe().loc['50%'] and row < df_cd_extract['rentFee_만'].describe().loc['75%']:\n",
    "        return 2\n",
    "    elif row >=df_cd_extract['rentFee_만'].describe().loc['75%'] and row < np.median([df_cd_extract['rentFee_만'].describe().loc['75%'],df_cd_extract['rentFee_만'].describe().loc['max']]):\n",
    "        return 3\n",
    "    else :\n",
    "        return 4\n",
    "    "
   ]
  },
  {
   "cell_type": "code",
   "execution_count": 22,
   "id": "330721e7-1186-4ed9-b6ed-54b0c370a14e",
   "metadata": {},
   "outputs": [
    {
     "name": "stderr",
     "output_type": "stream",
     "text": [
      "/tmp/ipykernel_2797/1163450465.py:1: SettingWithCopyWarning: \n",
      "A value is trying to be set on a copy of a slice from a DataFrame.\n",
      "Try using .loc[row_indexer,col_indexer] = value instead\n",
      "\n",
      "See the caveats in the documentation: https://pandas.pydata.org/pandas-docs/stable/user_guide/indexing.html#returning-a-view-versus-a-copy\n",
      "  df_cd_extract['rentFee_cate'] = df_cd_extract['rentFee_만'].apply(rentFee_cate)\n"
     ]
    }
   ],
   "source": [
    "df_cd_extract['rentFee_cate'] = df_cd_extract['rentFee_만'].apply(rentFee_cate)"
   ]
  },
  {
   "cell_type": "code",
   "execution_count": 23,
   "id": "20050225-7568-443b-83d5-d59a1900c62b",
   "metadata": {
    "scrolled": true
   },
   "outputs": [
    {
     "name": "stderr",
     "output_type": "stream",
     "text": [
      "/tmp/ipykernel_2797/3080069677.py:1: SettingWithCopyWarning: \n",
      "A value is trying to be set on a copy of a slice from a DataFrame.\n",
      "Try using .loc[row_indexer,col_indexer] = value instead\n",
      "\n",
      "See the caveats in the documentation: https://pandas.pydata.org/pandas-docs/stable/user_guide/indexing.html#returning-a-view-versus-a-copy\n",
      "  df_cd_extract[['region_si', 'region_gu', 'region_dong']] = df_cd_extract['region'].str.split(' ', n=2, expand=True)\n"
     ]
    }
   ],
   "source": [
    "df_cd_extract[['region_si', 'region_gu', 'region_dong']] = df_cd_extract['region'].str.split(' ', n=2, expand=True)"
   ]
  },
  {
   "cell_type": "code",
   "execution_count": 24,
   "id": "0f3315e4-85f3-4f31-a54e-d6b090e262a2",
   "metadata": {},
   "outputs": [],
   "source": [
    "df_cd_extract.loc[df_cd_extract['region_si'].str.contains('서울'), 'region_si'] = '서울'\n",
    "df_cd_extract.loc[df_cd_extract['region_si'].str.contains('경기'), 'region_si'] = '경기'\n",
    "df_cd_extract.loc[df_cd_extract['region_si'].str.contains('인천'), 'region_si'] = '인천'"
   ]
  },
  {
   "cell_type": "code",
   "execution_count": 25,
   "id": "63f3f2c9-04a1-42a6-b825-a9070b3c0a73",
   "metadata": {},
   "outputs": [],
   "source": [
    "df_cd_extract_seoul = df_cd_extract.query('region_si==\"서울\"')"
   ]
  },
  {
   "cell_type": "code",
   "execution_count": 26,
   "id": "a8e45cd4-0aac-42d5-9426-8f37e45a172e",
   "metadata": {},
   "outputs": [],
   "source": [
    "df_cd_extract_seoul.reset_index(inplace=True)"
   ]
  },
  {
   "cell_type": "code",
   "execution_count": 27,
   "id": "38fdfb2c-9f58-41dd-a599-a09cc09b2214",
   "metadata": {},
   "outputs": [],
   "source": [
    "df_cd_extract.loc[df_cd_extract['roomType'].str.contains('1인실'), 'roomType_change'] = 0\n",
    "df_cd_extract.loc[df_cd_extract['roomType'].str.contains('그 외'), 'roomType_change'] = 1"
   ]
  },
  {
   "cell_type": "code",
   "execution_count": 28,
   "id": "9611b9b1-08e9-487d-af38-f3857d6a8841",
   "metadata": {},
   "outputs": [
    {
     "data": {
      "text/html": [
       "<div>\n",
       "<style scoped>\n",
       "    .dataframe tbody tr th:only-of-type {\n",
       "        vertical-align: middle;\n",
       "    }\n",
       "\n",
       "    .dataframe tbody tr th {\n",
       "        vertical-align: top;\n",
       "    }\n",
       "\n",
       "    .dataframe thead th {\n",
       "        text-align: right;\n",
       "    }\n",
       "</style>\n",
       "<table border=\"1\" class=\"dataframe\">\n",
       "  <thead>\n",
       "    <tr style=\"text-align: right;\">\n",
       "      <th></th>\n",
       "      <th>title</th>\n",
       "      <th>roomType</th>\n",
       "      <th>py</th>\n",
       "      <th>deposit</th>\n",
       "      <th>rentFee</th>\n",
       "      <th>region</th>\n",
       "      <th>roomOption</th>\n",
       "      <th>deposit_만</th>\n",
       "      <th>rentFee_만</th>\n",
       "      <th>deposit_cate</th>\n",
       "      <th>rentFee_cate</th>\n",
       "      <th>region_si</th>\n",
       "      <th>region_gu</th>\n",
       "      <th>region_dong</th>\n",
       "      <th>roomType_change</th>\n",
       "    </tr>\n",
       "  </thead>\n",
       "  <tbody>\n",
       "    <tr>\n",
       "      <th>0</th>\n",
       "      <td>매물번호 42074288</td>\n",
       "      <td>1인실</td>\n",
       "      <td>19.83</td>\n",
       "      <td>1000</td>\n",
       "      <td>56</td>\n",
       "      <td>서울특별시 관악구 신림동</td>\n",
       "      <td>벽걸이형\\n책상\\n옷장\\n신발장\\n냉장고\\n세탁기\\n싱크대\\n인덕션\\n전자레인지\\n...</td>\n",
       "      <td>1000</td>\n",
       "      <td>56</td>\n",
       "      <td>2</td>\n",
       "      <td>2</td>\n",
       "      <td>서울</td>\n",
       "      <td>관악구</td>\n",
       "      <td>신림동</td>\n",
       "      <td>0.0</td>\n",
       "    </tr>\n",
       "    <tr>\n",
       "      <th>1</th>\n",
       "      <td>매물번호 42051547</td>\n",
       "      <td>그 외</td>\n",
       "      <td>26.32</td>\n",
       "      <td>2000</td>\n",
       "      <td>75</td>\n",
       "      <td>서울특별시 강북구 수유동</td>\n",
       "      <td>벽걸이형\\n침대\\n신발장\\n냉장고\\n세탁기\\n싱크대\\n가스레인지\\nTV\\n</td>\n",
       "      <td>2000</td>\n",
       "      <td>75</td>\n",
       "      <td>3</td>\n",
       "      <td>3</td>\n",
       "      <td>서울</td>\n",
       "      <td>강북구</td>\n",
       "      <td>수유동</td>\n",
       "      <td>1.0</td>\n",
       "    </tr>\n",
       "    <tr>\n",
       "      <th>2</th>\n",
       "      <td>매물번호 41995067</td>\n",
       "      <td>그 외</td>\n",
       "      <td>26.32</td>\n",
       "      <td>2000</td>\n",
       "      <td>75</td>\n",
       "      <td>서울특별시 강북구 수유동</td>\n",
       "      <td>벽걸이형\\n신발장\\n싱크대\\n가스레인지\\n무인택배함\\n인터폰\\nCCTV\\n현관보안</td>\n",
       "      <td>2000</td>\n",
       "      <td>75</td>\n",
       "      <td>3</td>\n",
       "      <td>3</td>\n",
       "      <td>서울</td>\n",
       "      <td>강북구</td>\n",
       "      <td>수유동</td>\n",
       "      <td>1.0</td>\n",
       "    </tr>\n",
       "    <tr>\n",
       "      <th>3</th>\n",
       "      <td>매물번호 39924505</td>\n",
       "      <td>그 외</td>\n",
       "      <td>49.04</td>\n",
       "      <td>29000</td>\n",
       "      <td>30</td>\n",
       "      <td>서울특별시 강서구 공항동</td>\n",
       "      <td>천장형\\n식탁\\n신발장\\n싱크대\\n인덕션\\n화재경보기\\n베란다\\n무인택배함\\n비디오...</td>\n",
       "      <td>29000</td>\n",
       "      <td>30</td>\n",
       "      <td>4</td>\n",
       "      <td>0</td>\n",
       "      <td>서울</td>\n",
       "      <td>강서구</td>\n",
       "      <td>공항동</td>\n",
       "      <td>1.0</td>\n",
       "    </tr>\n",
       "    <tr>\n",
       "      <th>4</th>\n",
       "      <td>매물번호 39874814</td>\n",
       "      <td>그 외</td>\n",
       "      <td>96.86</td>\n",
       "      <td>15000</td>\n",
       "      <td>70</td>\n",
       "      <td>서울특별시 강서구 공항동</td>\n",
       "      <td>신발장\\n싱크대\\n가스레인지\\n화재경보기\\n베란다\\n비디오폰\\n인터폰\\n카드키\\nC...</td>\n",
       "      <td>15000</td>\n",
       "      <td>70</td>\n",
       "      <td>3</td>\n",
       "      <td>3</td>\n",
       "      <td>서울</td>\n",
       "      <td>강서구</td>\n",
       "      <td>공항동</td>\n",
       "      <td>1.0</td>\n",
       "    </tr>\n",
       "    <tr>\n",
       "      <th>...</th>\n",
       "      <td>...</td>\n",
       "      <td>...</td>\n",
       "      <td>...</td>\n",
       "      <td>...</td>\n",
       "      <td>...</td>\n",
       "      <td>...</td>\n",
       "      <td>...</td>\n",
       "      <td>...</td>\n",
       "      <td>...</td>\n",
       "      <td>...</td>\n",
       "      <td>...</td>\n",
       "      <td>...</td>\n",
       "      <td>...</td>\n",
       "      <td>...</td>\n",
       "      <td>...</td>\n",
       "    </tr>\n",
       "    <tr>\n",
       "      <th>549</th>\n",
       "      <td>매물번호 41950840</td>\n",
       "      <td>1인실</td>\n",
       "      <td>19.83</td>\n",
       "      <td>1000</td>\n",
       "      <td>50</td>\n",
       "      <td>서울특별시 강서구 화곡동</td>\n",
       "      <td>벽걸이형\\n옷장\\n신발장\\n냉장고\\n세탁기\\n싱크대\\n인덕션\\n화재경보기\\n인터폰\\...</td>\n",
       "      <td>1000</td>\n",
       "      <td>50</td>\n",
       "      <td>2</td>\n",
       "      <td>2</td>\n",
       "      <td>서울</td>\n",
       "      <td>강서구</td>\n",
       "      <td>화곡동</td>\n",
       "      <td>0.0</td>\n",
       "    </tr>\n",
       "    <tr>\n",
       "      <th>550</th>\n",
       "      <td>매물번호 42334987</td>\n",
       "      <td>그 외</td>\n",
       "      <td>48.45</td>\n",
       "      <td>50</td>\n",
       "      <td>105</td>\n",
       "      <td>경기도 의왕시 월암동</td>\n",
       "      <td>신발장\\n싱크대\\n인덕션\\n비디오폰\\nCCTV\\n현관보안</td>\n",
       "      <td>50</td>\n",
       "      <td>105</td>\n",
       "      <td>0</td>\n",
       "      <td>3</td>\n",
       "      <td>경기</td>\n",
       "      <td>의왕시</td>\n",
       "      <td>월암동</td>\n",
       "      <td>1.0</td>\n",
       "    </tr>\n",
       "    <tr>\n",
       "      <th>551</th>\n",
       "      <td>매물번호 42196226</td>\n",
       "      <td>1인실</td>\n",
       "      <td>23.14</td>\n",
       "      <td>200</td>\n",
       "      <td>28</td>\n",
       "      <td>경기도 고양시 덕양구 화정동</td>\n",
       "      <td>벽걸이형\\n신발장\\n냉장고\\n세탁기\\n싱크대\\n가스레인지\\n</td>\n",
       "      <td>200</td>\n",
       "      <td>28</td>\n",
       "      <td>0</td>\n",
       "      <td>0</td>\n",
       "      <td>경기</td>\n",
       "      <td>고양시</td>\n",
       "      <td>덕양구 화정동</td>\n",
       "      <td>0.0</td>\n",
       "    </tr>\n",
       "    <tr>\n",
       "      <th>552</th>\n",
       "      <td>매물번호 42254016</td>\n",
       "      <td>1인실</td>\n",
       "      <td>25.00</td>\n",
       "      <td>300</td>\n",
       "      <td>30</td>\n",
       "      <td>서울특별시 강서구 화곡동</td>\n",
       "      <td>벽걸이형\\n냉장고\\n세탁기\\n싱크대\\n가스레인지\\n전자레인지\\n</td>\n",
       "      <td>300</td>\n",
       "      <td>30</td>\n",
       "      <td>1</td>\n",
       "      <td>0</td>\n",
       "      <td>서울</td>\n",
       "      <td>강서구</td>\n",
       "      <td>화곡동</td>\n",
       "      <td>0.0</td>\n",
       "    </tr>\n",
       "    <tr>\n",
       "      <th>553</th>\n",
       "      <td>매물번호 42161102</td>\n",
       "      <td>그 외</td>\n",
       "      <td>33.05</td>\n",
       "      <td>19000</td>\n",
       "      <td>20</td>\n",
       "      <td>서울특별시 관악구 신림동</td>\n",
       "      <td>벽걸이형\\n천장형\\n옷장\\n신발장\\n냉장고\\n세탁기\\n건조기\\n싱크대\\n인덕션\\n전...</td>\n",
       "      <td>19000</td>\n",
       "      <td>20</td>\n",
       "      <td>4</td>\n",
       "      <td>0</td>\n",
       "      <td>서울</td>\n",
       "      <td>관악구</td>\n",
       "      <td>신림동</td>\n",
       "      <td>1.0</td>\n",
       "    </tr>\n",
       "  </tbody>\n",
       "</table>\n",
       "<p>554 rows × 15 columns</p>\n",
       "</div>"
      ],
      "text/plain": [
       "             title roomType     py deposit rentFee           region  \\\n",
       "0    매물번호 42074288      1인실  19.83    1000      56    서울특별시 관악구 신림동   \n",
       "1    매물번호 42051547      그 외  26.32    2000      75    서울특별시 강북구 수유동   \n",
       "2    매물번호 41995067      그 외  26.32    2000      75    서울특별시 강북구 수유동   \n",
       "3    매물번호 39924505      그 외  49.04   29000      30    서울특별시 강서구 공항동   \n",
       "4    매물번호 39874814      그 외  96.86   15000      70    서울특별시 강서구 공항동   \n",
       "..             ...      ...    ...     ...     ...              ...   \n",
       "549  매물번호 41950840      1인실  19.83    1000      50    서울특별시 강서구 화곡동   \n",
       "550  매물번호 42334987      그 외  48.45      50     105      경기도 의왕시 월암동   \n",
       "551  매물번호 42196226      1인실  23.14     200      28  경기도 고양시 덕양구 화정동   \n",
       "552  매물번호 42254016      1인실  25.00     300      30    서울특별시 강서구 화곡동   \n",
       "553  매물번호 42161102      그 외  33.05   19000      20    서울특별시 관악구 신림동   \n",
       "\n",
       "                                            roomOption  deposit_만  rentFee_만  \\\n",
       "0    벽걸이형\\n책상\\n옷장\\n신발장\\n냉장고\\n세탁기\\n싱크대\\n인덕션\\n전자레인지\\n...       1000         56   \n",
       "1            벽걸이형\\n침대\\n신발장\\n냉장고\\n세탁기\\n싱크대\\n가스레인지\\nTV\\n       2000         75   \n",
       "2        벽걸이형\\n신발장\\n싱크대\\n가스레인지\\n무인택배함\\n인터폰\\nCCTV\\n현관보안       2000         75   \n",
       "3    천장형\\n식탁\\n신발장\\n싱크대\\n인덕션\\n화재경보기\\n베란다\\n무인택배함\\n비디오...      29000         30   \n",
       "4    신발장\\n싱크대\\n가스레인지\\n화재경보기\\n베란다\\n비디오폰\\n인터폰\\n카드키\\nC...      15000         70   \n",
       "..                                                 ...        ...        ...   \n",
       "549  벽걸이형\\n옷장\\n신발장\\n냉장고\\n세탁기\\n싱크대\\n인덕션\\n화재경보기\\n인터폰\\...       1000         50   \n",
       "550                    신발장\\n싱크대\\n인덕션\\n비디오폰\\nCCTV\\n현관보안         50        105   \n",
       "551                  벽걸이형\\n신발장\\n냉장고\\n세탁기\\n싱크대\\n가스레인지\\n        200         28   \n",
       "552                벽걸이형\\n냉장고\\n세탁기\\n싱크대\\n가스레인지\\n전자레인지\\n        300         30   \n",
       "553  벽걸이형\\n천장형\\n옷장\\n신발장\\n냉장고\\n세탁기\\n건조기\\n싱크대\\n인덕션\\n전...      19000         20   \n",
       "\n",
       "     deposit_cate  rentFee_cate region_si region_gu region_dong  \\\n",
       "0               2             2        서울       관악구         신림동   \n",
       "1               3             3        서울       강북구         수유동   \n",
       "2               3             3        서울       강북구         수유동   \n",
       "3               4             0        서울       강서구         공항동   \n",
       "4               3             3        서울       강서구         공항동   \n",
       "..            ...           ...       ...       ...         ...   \n",
       "549             2             2        서울       강서구         화곡동   \n",
       "550             0             3        경기       의왕시         월암동   \n",
       "551             0             0        경기       고양시     덕양구 화정동   \n",
       "552             1             0        서울       강서구         화곡동   \n",
       "553             4             0        서울       관악구         신림동   \n",
       "\n",
       "     roomType_change  \n",
       "0                0.0  \n",
       "1                1.0  \n",
       "2                1.0  \n",
       "3                1.0  \n",
       "4                1.0  \n",
       "..               ...  \n",
       "549              0.0  \n",
       "550              1.0  \n",
       "551              0.0  \n",
       "552              0.0  \n",
       "553              1.0  \n",
       "\n",
       "[554 rows x 15 columns]"
      ]
     },
     "execution_count": 28,
     "metadata": {},
     "output_type": "execute_result"
    }
   ],
   "source": [
    "df_cd_extract"
   ]
  },
  {
   "cell_type": "code",
   "execution_count": 29,
   "id": "52c7b29e-1ded-4732-8ae9-191adcef81c1",
   "metadata": {},
   "outputs": [
    {
     "data": {
      "text/plain": [
       "(19.83, 39.66)"
      ]
     },
     "execution_count": 29,
     "metadata": {},
     "output_type": "execute_result"
    }
   ],
   "source": [
    "df_cd_extract['py'].describe().loc['25%'], df_cd_extract['py'].describe().loc['75%']"
   ]
  },
  {
   "cell_type": "code",
   "execution_count": 30,
   "id": "a7d2d2e8-f632-4512-a59e-e0cfdf66a489",
   "metadata": {},
   "outputs": [],
   "source": [
    "def py_cate(row):\n",
    "    import numpy as np\n",
    "    if row < df_cd_extract['py'].describe().loc['25%']  :  \n",
    "        return 0\n",
    "    elif row >=df_cd_extract['py'].describe().loc['25%'] and row < df_cd_extract['py'].describe().loc['50%']:\n",
    "        return 1\n",
    "    elif row >=df_cd_extract['py'].describe().loc['50%'] and row < df_cd_extract['py'].describe().loc['75%']:\n",
    "        return 2\n",
    "    elif row >=df_cd_extract['py'].describe().loc['75%'] and row < np.median([df_cd_extract['py'].describe().loc['75%'],df_cd_extract['py'].describe().loc['max']]):\n",
    "        return 3\n",
    "    else :\n",
    "        return 4\n",
    "    "
   ]
  },
  {
   "cell_type": "code",
   "execution_count": 31,
   "id": "59eaa06e-c5c1-47b9-af74-265f697b1552",
   "metadata": {},
   "outputs": [],
   "source": [
    "df_cd_extract['py_cate']=df_cd_extract['py'].apply(py_cate)"
   ]
  },
  {
   "cell_type": "code",
   "execution_count": 32,
   "id": "061916e3-8981-45ee-ae9f-688d52a28d8c",
   "metadata": {},
   "outputs": [
    {
     "data": {
      "text/plain": [
       "array(['신림동', '수유동', '공항동', '하월곡동', '봉천동', '천호동', '가산동', '구의동',\n",
       "       '서초동 1445-1번지 외1필지', '암사동', '반포동', '용답동', '합정동', '방학동', '문정동',\n",
       "       '역삼동', '화곡동', '충정로3가', '자양동', '이문동', '석촌동', '면목동', '화양동', '당산동',\n",
       "       '도림동', '번동', '하왕십리동', '사근동', '상봉동', '창동', '휘경동', '묵동', '신사동',\n",
       "       '논현동', '회기동', '상도1동', '창천동', '삼성동', '잠실동', '미아동', '중곡동', '효창동',\n",
       "       '남현동', '방이동 43-2, 1동', '보문동2가', '목동', '둔촌동', '신대방동', '성내동', '망우동',\n",
       "       '사당동', '공덕동', '양재동', '대치동', '연희동', '가락동', '역삼동 830-41', '동소문동1가',\n",
       "       '정릉동', '상도동', '수유동 48-81', '당산동6가', '공릉동', '성수동2가', '노량진동', '연남동',\n",
       "       '구로동', '쌍문동', '능동', '전농동', '수유동 229-18,51번지', '흑석동', '잠실동 175-12',\n",
       "       '전농동 620-15번지 일대', '신길동', '일원동', '망원동', '상계동', '등촌동', '동선동4가',\n",
       "       '성수동1가', '문래동3가', '개봉동', '개포동', '삼선동5가'], dtype=object)"
      ]
     },
     "execution_count": 32,
     "metadata": {},
     "output_type": "execute_result"
    }
   ],
   "source": [
    "df_cd_extract.query('region_si==\"서울\"')['region_dong'].unique()"
   ]
  },
  {
   "cell_type": "code",
   "execution_count": 33,
   "id": "23d0de7b-a000-497c-8efd-81780105ee54",
   "metadata": {},
   "outputs": [],
   "source": [
    "df_cd_extract['region_dong'] = df_cd_extract['region_dong'].str.replace('서초동 1445-1번지 외1필지','서초동')\n",
    "df_cd_extract['region_dong'] = df_cd_extract['region_dong'].str.replace('충정로3가','충현동')\n",
    "df_cd_extract['region_dong'] = df_cd_extract['region_dong'].str.replace('상도1동','상도동')\n",
    "df_cd_extract['region_dong'] = df_cd_extract['region_dong'].str.replace('방이동 43-2, 1동','방이동')\n",
    "df_cd_extract['region_dong'] = df_cd_extract['region_dong'].str.replace('보문동2가','보문동')\n",
    "df_cd_extract['region_dong'] = df_cd_extract['region_dong'].str.replace('역삼동 830-41','역삼동')\n",
    "df_cd_extract['region_dong'] = df_cd_extract['region_dong'].str.replace('동소문동1가','동소문동')\n",
    "df_cd_extract['region_dong'] = df_cd_extract['region_dong'].str.replace('수유동 48-81','수유동')\n",
    "df_cd_extract['region_dong'] = df_cd_extract['region_dong'].str.replace('당산동6가','당산동')\n",
    "df_cd_extract['region_dong'] = df_cd_extract['region_dong'].str.replace('성수동2가','성수동')\n",
    "df_cd_extract['region_dong'] = df_cd_extract['region_dong'].str.replace('수유동 229-18,51번지','수유동')\n",
    "df_cd_extract['region_dong'] = df_cd_extract['region_dong'].str.replace('당산동6가','당산동')\n",
    "df_cd_extract['region_dong'] = df_cd_extract['region_dong'].str.replace('성수동2가','성수동')\n",
    "df_cd_extract['region_dong'] = df_cd_extract['region_dong'].str.replace('수유동 229-18,51번지','수유동')\n",
    "df_cd_extract['region_dong'] = df_cd_extract['region_dong'].str.replace('잠실동 175-12','잠실동')\n",
    "df_cd_extract['region_dong'] = df_cd_extract['region_dong'].str.replace('전농동 620-15번지 일대','전농동')\n",
    "df_cd_extract['region_dong'] = df_cd_extract['region_dong'].str.replace('동선동4가','동선동')\n",
    "df_cd_extract['region_dong'] = df_cd_extract['region_dong'].str.replace('성수동1가','성수동')\n",
    "df_cd_extract['region_dong'] = df_cd_extract['region_dong'].str.replace('문래동3가','문래동')\n",
    "df_cd_extract['region_dong'] = df_cd_extract['region_dong'].str.replace('삼선동5가','삼선동')"
   ]
  },
  {
   "cell_type": "markdown",
   "id": "910fd545-078a-4aea-a59e-e7c8d6d6489c",
   "metadata": {},
   "source": [
    "## EDA: 계약기간에 따른 월세/보증금 평균\n",
    "- 문제 정의: 서울의 구/동별 매물의 월세/보증금의 평균치를 계약기간 별로 도출한다.\n",
    "- 배경: 월세/보증금의 평균치를 통해 고객의 n년 지출금액에 따라 지역을 추천하여, 고객의 매물 탐색 기간을 줄여 고객만족도를 높인다.\n",
    "- 전제: py_cate ==1 or py_cate ==2 (py: 19.83-39.66 / 5.99-11.99평)인 경우 == 올라온 매물의 평수가 중위구간인 경우\n",
    " "
   ]
  },
  {
   "cell_type": "code",
   "execution_count": 34,
   "id": "60a277c4-d601-46a9-a959-87397239f644",
   "metadata": {},
   "outputs": [],
   "source": [
    "df_rnt_dpst = df_cd_extract[['title','deposit_cate','rentFee_cate','region_si','region_gu','region_dong', 'py_cate']].query('region_si==\"서울\" and (py_cate==1 or py_cate==2  )').reset_index()\n",
    "df_rnt_dpst = df_rnt_dpst.loc[:, ~df_rnt_dpst.columns.isin(['index', 'region_si','py_cate'])]"
   ]
  },
  {
   "cell_type": "code",
   "execution_count": 35,
   "id": "4772df1b-e0a4-42cb-91a7-f04965bf1ec6",
   "metadata": {
    "scrolled": true
   },
   "outputs": [
    {
     "data": {
      "text/html": [
       "<div>\n",
       "<style scoped>\n",
       "    .dataframe tbody tr th:only-of-type {\n",
       "        vertical-align: middle;\n",
       "    }\n",
       "\n",
       "    .dataframe tbody tr th {\n",
       "        vertical-align: top;\n",
       "    }\n",
       "\n",
       "    .dataframe thead th {\n",
       "        text-align: right;\n",
       "    }\n",
       "</style>\n",
       "<table border=\"1\" class=\"dataframe\">\n",
       "  <thead>\n",
       "    <tr style=\"text-align: right;\">\n",
       "      <th></th>\n",
       "      <th>title</th>\n",
       "      <th>deposit_cate</th>\n",
       "      <th>rentFee_cate</th>\n",
       "      <th>region_gu</th>\n",
       "      <th>region_dong</th>\n",
       "    </tr>\n",
       "  </thead>\n",
       "  <tbody>\n",
       "    <tr>\n",
       "      <th>0</th>\n",
       "      <td>매물번호 42074288</td>\n",
       "      <td>2</td>\n",
       "      <td>2</td>\n",
       "      <td>관악구</td>\n",
       "      <td>신림동</td>\n",
       "    </tr>\n",
       "    <tr>\n",
       "      <th>1</th>\n",
       "      <td>매물번호 42051547</td>\n",
       "      <td>3</td>\n",
       "      <td>3</td>\n",
       "      <td>강북구</td>\n",
       "      <td>수유동</td>\n",
       "    </tr>\n",
       "    <tr>\n",
       "      <th>2</th>\n",
       "      <td>매물번호 41995067</td>\n",
       "      <td>3</td>\n",
       "      <td>3</td>\n",
       "      <td>강북구</td>\n",
       "      <td>수유동</td>\n",
       "    </tr>\n",
       "    <tr>\n",
       "      <th>3</th>\n",
       "      <td>매물번호 40548634</td>\n",
       "      <td>3</td>\n",
       "      <td>3</td>\n",
       "      <td>강서구</td>\n",
       "      <td>공항동</td>\n",
       "    </tr>\n",
       "    <tr>\n",
       "      <th>4</th>\n",
       "      <td>매물번호 40548634</td>\n",
       "      <td>3</td>\n",
       "      <td>3</td>\n",
       "      <td>강서구</td>\n",
       "      <td>공항동</td>\n",
       "    </tr>\n",
       "    <tr>\n",
       "      <th>...</th>\n",
       "      <td>...</td>\n",
       "      <td>...</td>\n",
       "      <td>...</td>\n",
       "      <td>...</td>\n",
       "      <td>...</td>\n",
       "    </tr>\n",
       "    <tr>\n",
       "      <th>143</th>\n",
       "      <td>매물번호 42169111</td>\n",
       "      <td>3</td>\n",
       "      <td>3</td>\n",
       "      <td>성북구</td>\n",
       "      <td>삼선동</td>\n",
       "    </tr>\n",
       "    <tr>\n",
       "      <th>144</th>\n",
       "      <td>매물번호 42028325</td>\n",
       "      <td>0</td>\n",
       "      <td>0</td>\n",
       "      <td>강북구</td>\n",
       "      <td>수유동</td>\n",
       "    </tr>\n",
       "    <tr>\n",
       "      <th>145</th>\n",
       "      <td>매물번호 41950840</td>\n",
       "      <td>2</td>\n",
       "      <td>2</td>\n",
       "      <td>강서구</td>\n",
       "      <td>화곡동</td>\n",
       "    </tr>\n",
       "    <tr>\n",
       "      <th>146</th>\n",
       "      <td>매물번호 42254016</td>\n",
       "      <td>1</td>\n",
       "      <td>0</td>\n",
       "      <td>강서구</td>\n",
       "      <td>화곡동</td>\n",
       "    </tr>\n",
       "    <tr>\n",
       "      <th>147</th>\n",
       "      <td>매물번호 42161102</td>\n",
       "      <td>4</td>\n",
       "      <td>0</td>\n",
       "      <td>관악구</td>\n",
       "      <td>신림동</td>\n",
       "    </tr>\n",
       "  </tbody>\n",
       "</table>\n",
       "<p>148 rows × 5 columns</p>\n",
       "</div>"
      ],
      "text/plain": [
       "             title  deposit_cate  rentFee_cate region_gu region_dong\n",
       "0    매물번호 42074288             2             2       관악구         신림동\n",
       "1    매물번호 42051547             3             3       강북구         수유동\n",
       "2    매물번호 41995067             3             3       강북구         수유동\n",
       "3    매물번호 40548634             3             3       강서구         공항동\n",
       "4    매물번호 40548634             3             3       강서구         공항동\n",
       "..             ...           ...           ...       ...         ...\n",
       "143  매물번호 42169111             3             3       성북구         삼선동\n",
       "144  매물번호 42028325             0             0       강북구         수유동\n",
       "145  매물번호 41950840             2             2       강서구         화곡동\n",
       "146  매물번호 42254016             1             0       강서구         화곡동\n",
       "147  매물번호 42161102             4             0       관악구         신림동\n",
       "\n",
       "[148 rows x 5 columns]"
      ]
     },
     "execution_count": 35,
     "metadata": {},
     "output_type": "execute_result"
    }
   ],
   "source": [
    "df_rnt_dpst"
   ]
  },
  {
   "cell_type": "code",
   "execution_count": 36,
   "id": "12300293-4b97-4015-b95a-a32ee5d5f5b9",
   "metadata": {},
   "outputs": [
    {
     "name": "stdout",
     "output_type": "stream",
     "text": [
      "Reading package lists... Done\n",
      "Building dependency tree... Done\n",
      "Reading state information... Done\n",
      "fonts-nanum is already the newest version (20200506-1).\n",
      "0 upgraded, 0 newly installed, 0 to remove and 0 not upgraded.\n",
      "Font directories:\n",
      "\t/root/.local/share/fonts\n",
      "\t/usr/local/share/fonts\n",
      "\t/usr/share/fonts\n",
      "\t/root/.fonts\n",
      "\t/usr/share/fonts/truetype\n",
      "\t/usr/share/fonts/truetype/dejavu\n",
      "\t/usr/share/fonts/truetype/nanum\n",
      "/root/.local/share/fonts: skipping, no such directory\n",
      "/usr/local/share/fonts: caching, new cache contents: 0 fonts, 0 dirs\n",
      "/usr/share/fonts: caching, new cache contents: 0 fonts, 1 dirs\n",
      "/usr/share/fonts/truetype: caching, new cache contents: 0 fonts, 2 dirs\n",
      "/usr/share/fonts/truetype/dejavu: caching, new cache contents: 22 fonts, 0 dirs\n",
      "/usr/share/fonts/truetype/nanum: caching, new cache contents: 12 fonts, 0 dirs\n",
      "/root/.fonts: skipping, no such directory\n",
      "/usr/share/fonts/truetype: skipping, looped directory detected\n",
      "/usr/share/fonts/truetype/dejavu: skipping, looped directory detected\n",
      "/usr/share/fonts/truetype/nanum: skipping, looped directory detected\n",
      "/var/cache/fontconfig: cleaning cache directory\n",
      "/root/.cache/fontconfig: not cleaning non-existent cache directory\n",
      "/root/.fontconfig: not cleaning non-existent cache directory\n",
      "fc-cache: succeeded\n"
     ]
    }
   ],
   "source": [
    "# 한글 폰트 설치\n",
    "!apt-get install -y fonts-nanum\n",
    "!fc-cache -fv\n",
    "!rm ~/.cache/matplotlib -rf\n",
    "# 코렙의 경우 설치 후 runtime  > restart 해야함\n",
    "\n",
    "import matplotlib.pyplot as plt\n",
    "import matplotlib as mpl\n",
    "mpl.rc('font', family='NanumBarunGothic') # 혹은 다른 설치한 Nanum 폰트 사용"
   ]
  },
  {
   "cell_type": "markdown",
   "id": "ece8285c-c220-4d8a-b8a2-6d9757034679",
   "metadata": {},
   "source": [
    "### 구별 예측"
   ]
  },
  {
   "cell_type": "markdown",
   "id": "d8e67abd-263a-487d-a305-8a5c0a2b1a26",
   "metadata": {},
   "source": [
    "### 구별 보증금/월세 평균치 산출 with 계약기간 별 예상지출액"
   ]
  },
  {
   "cell_type": "code",
   "execution_count": 74,
   "id": "fbd440f7-fe03-44cd-bc57-95de2719cb69",
   "metadata": {},
   "outputs": [],
   "source": [
    "import matplotlib.pyplot as plt\n",
    "import seaborn as sns\n",
    "def cont_duration(x, gu_dong, gu) :\n",
    "\n",
    "    \n",
    "    if gu_dong == '구' :\n",
    "        gu_dong_value = 'gu'\n",
    "    elif gu_dong == '동' : \n",
    "        gu_dong_value = 'dong'\n",
    "\n",
    "    df_cd_years = df_cd_extract.query('region_si==\"서울\" and (py_cate==1 or py_cate==2)')[[f'region_{gu_dong_value}', 'deposit_만', 'rentFee_만']]\n",
    "    df_cd_years[f'{x}years'] = df_cd_years['deposit_만'] + x*12*df_cd_years['rentFee_만']\n",
    "    \n",
    "\n",
    "    if gu_dong == '동' and gu == '전체' : \n",
    "        df_cd_years = df_cd_extract.query('region_si==\"서울\" and (py_cate==1 or py_cate==2)')[[f'region_{gu_dong_value}', 'deposit_만', 'rentFee_만']]\n",
    "        df_cd_years[f'{x}years'] = df_cd_years['deposit_만'] + x*12*df_cd_years['rentFee_만']\n",
    "    elif gu_dong == '동' : \n",
    "        df_cd_years = df_cd_extract.query('region_si==\"서울\" and (py_cate==1 or py_cate==2)')[[f'region_{gu_dong_value}','region_gu', 'deposit_만', 'rentFee_만']]\n",
    "        df_cd_years = df_cd_years.query(f'region_gu==\"{gu}\"')\n",
    "        df_cd_years[f'{x}years'] = df_cd_years['deposit_만'] + x*12*df_cd_years['rentFee_만']\n",
    "\n",
    "    gu_dong_list = df_cd_years[f'region_{gu_dong_value}'].unique().tolist()\n",
    "    gu_dong_years_list = []\n",
    "    for y in range(len(gu_dong_list)) : \n",
    "        gu_dong_years = np.round(np.mean(df_cd_years.query(f\"region_{gu_dong_value}=='{gu_dong_list[y]}'\")[f'{x}years']),2)\n",
    "        gu_dong_years_list.append(gu_dong_years)\n",
    "        pass\n",
    "    df_gu_dong_years=pd.DataFrame(data={f'region_{gu_dong_value}': gu_dong_list, f'{x}years':gu_dong_years_list})\n",
    "    df_gu_dong_years = df_gu_dong_years.sort_values(f'{x}years', ascending=False)\n",
    "\n",
    "    plt.figure(figsize=(14,3))\n",
    "    sns.barplot(data=df_gu_dong_years, x=f'region_{gu_dong_value}', y=f'{x}years')\n",
    "    plt.title(f'{gu_dong}별 {x}년 예상지출액 평균')\n",
    "    plt.xlabel(f'{gu_dong}')\n",
    "    plt.ylabel(f'{x}년 예상지출액 평균')\n",
    "    return plt.show()\n",
    "    "
   ]
  },
  {
   "cell_type": "code",
   "execution_count": 75,
   "id": "d87107a8-4ea9-49ad-b8e3-eaf545f84e4f",
   "metadata": {},
   "outputs": [
    {
     "name": "stdin",
     "output_type": "stream",
     "text": [
      "계약기간이 몇년인가요? :  5\n",
      "어떤 기준으로 조회하고 싶으신가요?(구/동) :  구\n"
     ]
    },
    {
     "data": {
      "image/png": "[encoded data removed]",
      "text/plain": [
       "<Figure size 1400x300 with 1 Axes>"
      ]
     },
     "metadata": {},
     "output_type": "display_data"
    }
   ],
   "source": [
    "user_input_year = input('계약기간이 몇년인가요? : ')\n",
    "user_input_year = int(user_input_year)\n",
    "user_input_gudong = input('어떤 기준으로 조회하고 싶으신가요?(구/동) : ')\n",
    "if user_input_gudong=='동' :\n",
    "    user_input_gu = input('어느 구에 있는 동을 조회하고 싶은가요?(nn구/전체) : ')\n",
    "else :\n",
    "    user_input_gu = 'null'\n",
    "\n",
    "cont_duration(user_input_year, user_input_gudong, user_input_gu)"
   ]
  },
  {
   "cell_type": "markdown",
   "id": "1e8d0fa4-46a9-4b91-82eb-6064e7060bd9",
   "metadata": {},
   "source": [
    "### 구별 보증금/월세 평균치 산출 with 3년계약시 예상지출액"
   ]
  },
  {
   "cell_type": "code",
   "execution_count": 49,
   "id": "aedf1812-f93f-47dc-9c1d-5f8ae016e378",
   "metadata": {},
   "outputs": [
    {
     "data": {
      "image/png": "[encoded data removed]",
      "text/plain": [
       "<Figure size 1400x300 with 1 Axes>"
      ]
     },
     "metadata": {},
     "output_type": "display_data"
    }
   ],
   "source": [
    "cont_duration(5, '구', '전체')"
   ]
  },
  {
   "cell_type": "markdown",
   "id": "f18f80ce-4989-4d51-8fe0-cfdab6ef1e2d",
   "metadata": {},
   "source": [
    "### 구별 보증금/월세 평균치 산출 with 7년계약시 예상지출액"
   ]
  },
  {
   "cell_type": "code",
   "execution_count": 53,
   "id": "5b4767b0-5b63-41ac-b925-5c3dd922d7cf",
   "metadata": {},
   "outputs": [
    {
     "data": {
      "image/png": "[encoded data removed]",
      "text/plain": [
       "<Figure size 1400x300 with 1 Axes>"
      ]
     },
     "metadata": {},
     "output_type": "display_data"
    }
   ],
   "source": [
    "cont_duration(7, '구', '송파구')"
   ]
  },
  {
   "cell_type": "markdown",
   "id": "09e0878b-8159-456a-b2bf-f1dea746e819",
   "metadata": {},
   "source": [
    "## EDA: 월세/보증금 예측\n",
    "- 문제 정의: 서울의 구/동별 매물의 월세/보증금을 예측한다.\n",
    "- 배경: 고객이 매물을 구할 때 자산에 따른 예상 금액을 도출하고, 그에 따른 맞춤형 매물을 추천함으로써, 고객 만족도를 높이고 매출 증대에 기여할 수 있다.\n",
    "- 전제: py_cate ==1 or py_cate ==2(py: 19.83-39.66 / 5.99-11.99평)인 경우 == 올라온 매물의 평수가 중위구간인 경우\n",
    " "
   ]
  },
  {
   "cell_type": "markdown",
   "id": "86bc99d7-8e98-4656-a888-d48e2180598d",
   "metadata": {},
   "source": [
    "### 보증금/월세 평균치 산출 with 구간"
   ]
  },
  {
   "cell_type": "markdown",
   "id": "00415692-4a39-420e-b392-e92f5ef1ccee",
   "metadata": {},
   "source": [
    "#### 보증금"
   ]
  },
  {
   "cell_type": "code",
   "execution_count": 37,
   "id": "3daf4b77-00cc-465e-9d0f-893868386d53",
   "metadata": {},
   "outputs": [],
   "source": [
    "# import matplotlib.pyplot as plt\n",
    "# import seaborn as sns\n",
    "# def deposit_section(gu_dong, category, gu) :\n",
    "    \n",
    "#     if category == '보증금':\n",
    "#         category_value = 'deposit'\n",
    "#     elif category == '월세':\n",
    "#         category_value = 'rentFee'\n",
    "        \n",
    "#     if gu_dong == '구' :\n",
    "#         gu_dong_value = 'gu'\n",
    "#     elif gu_dong == '동' : \n",
    "#         gu_dong_value = 'dong'\n",
    "\n",
    "#     df_rnt_dpst_gu = df_rnt_dpst[[f'region_{gu_dong_value}', f'{category_value}_cate']]\n",
    "    \n",
    "\n",
    "#     if gu == '전체' : \n",
    "#         df_rnt_dpst_gu = df_rnt_dpst[[f'region_{gu_dong_value}', f'{category_value}_cate']]\n",
    "#     elif gu_dong == '동' : \n",
    "#         df_rnt_dpst_gu = df_rnt_dpst.query(f'region_gu==\"{gu}\"')\n",
    "#         df_rnt_dpst_gu = df_rnt_dpst_gu[[f'region_{gu_dong_value}', f'{category_value}_cate']]\n",
    "        \n",
    "#     gu_list = df_rnt_dpst_gu[f'region_{gu_dong_value}'].unique().tolist()\n",
    "#     gu_mean_list = []\n",
    "#     for x in range(len(gu_list)) : \n",
    "#         gu_mean = np.round(np.mean(df_rnt_dpst_gu.query(f\"region_{gu_dong_value}=='{gu_list[x]}'\")[f'{category_value}_cate']),2)\n",
    "#         gu_mean_list.append(gu_mean)\n",
    "#         pass\n",
    "#     df_gu = pd.DataFrame(data = {f'region_{gu_dong_value}':gu_list, f'{category_value}_mean':gu_mean_list})\n",
    "#     df_gu_deposit = df_gu.sort_values(f'{category_value}_mean', ascending=False)\n",
    "#     plt.figure(figsize=(14,3))\n",
    "#     sns.barplot(data=df_gu_deposit, x=f'region_{gu_dong_value}', y=f'{category_value}_mean')\n",
    "#     plt.title(f'{gu_dong}별 {category}구간 평균')\n",
    "#     plt.xlabel(f'{gu_dong}')\n",
    "#     plt.ylabel(f'{category}구간의 평균')\n",
    "#     return plt.show()"
   ]
  },
  {
   "cell_type": "markdown",
   "id": "3d53e481-679b-4dad-9718-41b45a8b6b62",
   "metadata": {},
   "source": [
    "##### 구"
   ]
  },
  {
   "cell_type": "code",
   "execution_count": 38,
   "id": "311d3970-e345-45a2-a381-fa999f4b5f7f",
   "metadata": {},
   "outputs": [],
   "source": [
    "# deposit_section('구','보증금','')"
   ]
  },
  {
   "cell_type": "markdown",
   "id": "ab3707c2-2cc0-40fd-8dd6-272fdc89b3cb",
   "metadata": {},
   "source": [
    "##### 동"
   ]
  },
  {
   "cell_type": "code",
   "execution_count": 39,
   "id": "36ae174c-01ab-4358-8066-17252117ed89",
   "metadata": {},
   "outputs": [],
   "source": [
    "# deposit_section('동','보증금', '전체')\n",
    "# plt.figure(figsize=(50,3))"
   ]
  },
  {
   "cell_type": "code",
   "execution_count": 40,
   "id": "e51b0bba-a0cf-467a-a314-7f2b8502a641",
   "metadata": {},
   "outputs": [],
   "source": [
    "# deposit_section('동','보증금', '영등포구')\n",
    "# plt.figure(figsize=(50,3))"
   ]
  },
  {
   "cell_type": "markdown",
   "id": "d398de72-e37c-4bbe-ab43-2897386ae056",
   "metadata": {},
   "source": [
    "#### 월세"
   ]
  },
  {
   "cell_type": "markdown",
   "id": "33a6f0a7-41d6-43ec-a88a-1d12623d613e",
   "metadata": {},
   "source": [
    "##### 구"
   ]
  },
  {
   "cell_type": "code",
   "execution_count": 41,
   "id": "0f196866-a973-4066-a6bb-e36ba08174c0",
   "metadata": {},
   "outputs": [],
   "source": [
    "# deposit_section('구','월세', '')"
   ]
  },
  {
   "cell_type": "markdown",
   "id": "ca256a7e-32c9-4c1c-ba81-ce3868d84813",
   "metadata": {},
   "source": [
    "##### 동"
   ]
  },
  {
   "cell_type": "code",
   "execution_count": 42,
   "id": "84a466a6-8018-43dc-8323-3ce3c6643080",
   "metadata": {},
   "outputs": [],
   "source": [
    "# deposit_section('동','월세', '전체')"
   ]
  },
  {
   "cell_type": "code",
   "execution_count": 43,
   "id": "82f431ba-af4a-49f8-8822-c6c74362735f",
   "metadata": {},
   "outputs": [],
   "source": [
    "# deposit_section('동','월세', '강남구')"
   ]
  },
  {
   "cell_type": "markdown",
   "id": "95b40926-f04b-42a4-ab55-c0123291c702",
   "metadata": {},
   "source": [
    "#### 월세/보증금 구간 합산치의 평균치 산출"
   ]
  },
  {
   "cell_type": "markdown",
   "id": "78d81a62-7d0f-4a81-b95c-c82f29b7feb4",
   "metadata": {},
   "source": [
    "##### 구"
   ]
  },
  {
   "cell_type": "code",
   "execution_count": 44,
   "id": "8a8bde24-5827-46fd-b747-a12ef56655d8",
   "metadata": {},
   "outputs": [],
   "source": [
    "# import matplotlib.pyplot as plt\n",
    "# import seaborn as sns\n",
    "# def sum_section(gu_dong) :\n",
    "#     if gu_dong == '구' :\n",
    "#         gu_dong_value = 'gu'\n",
    "#     elif gu_dong == '동' : \n",
    "#         gu_dong_value = 'dong'\n",
    "#     df_gu_dong = df_cd_extract[['title','deposit_cate','rentFee_cate','region_si','region_gu','region_dong', 'py_cate']].query('region_si==\"서울\" and (py_cate==1 or py_cate==2)').reset_index()\n",
    "#     df_gu_dong = df_gu_dong.loc[:, ~df_gu_dong.columns.isin(['index', 'region_si'])]\n",
    "#     df_gu_dong['dpst_rntf'] = df_gu_dong['deposit_cate']+df_gu_dong['rentFee_cate']\n",
    "#     gu_dong_list = df_gu_dong[f'region_{gu_dong_value}'].unique().tolist()\n",
    "#     gu_dong_mean_list = []\n",
    "#     for x in range(len(gu_dong_list)) : \n",
    "#         gu_dong_mean = np.round(np.mean(df_gu_dong.query(f\"region_{gu_dong_value}=='{gu_dong_list[x]}'\")['dpst_rntf']),2)\n",
    "#         gu_dong_mean_list.append(gu_dong_mean)\n",
    "#         pass\n",
    "#     df_rnt_dpst_gu_dong = pd.DataFrame(data = {f'region_{gu_dong_value}':gu_dong_list, 'dpst_rtf':gu_dong_mean_list})\n",
    "#     df_rnt_dpst_gu_dong = df_rnt_dpst_gu_dong.sort_values('dpst_rtf', ascending=False)\n",
    "#     plt.figure(figsize=(14,3))\n",
    "#     sns.barplot(data=df_rnt_dpst_gu_dong, x=f'region_{gu_dong_value}', y='dpst_rtf')\n",
    "#     plt.title(f'{gu_dong}별 월세/보증금 구간 합산치의 평균')\n",
    "#     plt.xlabel(f'{gu_dong}')\n",
    "#     plt.ylabel('월세/보증금 구간 합산치의 평균')\n",
    "#     return plt.show()"
   ]
  },
  {
   "cell_type": "code",
   "execution_count": 45,
   "id": "90bfa304-5e01-470b-970d-9a9f5141083e",
   "metadata": {},
   "outputs": [],
   "source": [
    "# sum_section('구')"
   ]
  },
  {
   "cell_type": "markdown",
   "id": "47a0d7ee-7ec4-4e89-80a8-91e447e26cb2",
   "metadata": {},
   "source": [
    "##### 동"
   ]
  },
  {
   "cell_type": "code",
   "execution_count": 46,
   "id": "e1e667a1-c2e8-424e-9241-940b2c1b322a",
   "metadata": {},
   "outputs": [],
   "source": [
    "# sum_section('동')"
   ]
  },
  {
   "cell_type": "code",
   "execution_count": null,
   "id": "d18bea6c-0301-4243-858b-74358cf28944",
   "metadata": {},
   "outputs": [],
   "source": []
  }
 ],
 "metadata": {
  "kernelspec": {
   "display_name": "Python 3 (ipykernel)",
   "language": "python",
   "name": "python3"
  },
  "language_info": {
   "codemirror_mode": {
    "name": "ipython",
    "version": 3
   },
   "file_extension": ".py",
   "mimetype": "text/x-python",
   "name": "python",
   "nbconvert_exporter": "python",
   "pygments_lexer": "ipython3",
   "version": "3.11.8"
  }
 },
 "nbformat": 4,
 "nbformat_minor": 5
}
